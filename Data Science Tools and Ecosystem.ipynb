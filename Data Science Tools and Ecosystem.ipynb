{
  "metadata": {
    "kernelspec": {
      "name": "python",
      "display_name": "Python (Pyodide)",
      "language": "python"
    },
    "language_info": {
      "codemirror_mode": {
        "name": "python",
        "version": 3
      },
      "file_extension": ".py",
      "mimetype": "text/x-python",
      "name": "python",
      "nbconvert_exporter": "python",
      "pygments_lexer": "ipython3",
      "version": "3.8"
    },
    "prev_pub_hash": "1aa16fbca7724b9bc3c0b1b52dd2ecd7aa4dd58060c4c5caf442ec6b1fafe236"
  },
  "nbformat_minor": 4,
  "nbformat": 4,
  "cells": [
    {
      "cell_type": "markdown",
      "source": "# Exercise 2: Notebook Title\n# Title: Data Science Tools and Ecosystem",
      "metadata": {}
    },
    {
      "cell_type": "markdown",
      "source": "# Exercise 3: Introduction\nIntroduction:\nThis notebook summarizes data science tools and ecosystems.",
      "metadata": {}
    },
    {
      "cell_type": "markdown",
      "source": "# Exercise 10: Objectives\n# **Objectives:**\n\n* Learn the basics of data science\n* List popular languages for Data Science\n* List popular libraries for Data Science\n* Demonstration with examples of arithmetic expressions and unit conversions.",
      "metadata": {}
    },
    {
      "cell_type": "markdown",
      "source": "# Exercise 4: Data Science Languages\nData Science Languages:\n* Python\n* R\n* SQL\n* Scala\n* Julia\n",
      "metadata": {}
    },
    {
      "cell_type": "markdown",
      "source": "# Exercise 5: Data Science Libraries\nData Science Libraries:\n* NumPy\n* Pandas\n* Scikit-learn\n* Matplotlib\n* Seaborn",
      "metadata": {}
    },
    {
      "cell_type": "markdown",
      "source": "# Exercise 6: Data Science Tools Table\n\n| Data Science Tools|\n|---|\n| Jupyter Notebook |\n| RStudio |\n| Apache Spark |\n| Tableau |\n| TensorFlow |",
      "metadata": {}
    },
    {
      "cell_type": "markdown",
      "source": "# Exercise 7: Examples of Arithmetic Expressions\n### Below are some examples of evaluating arithmetic expressions in Python.\n* 1 + 2 = 3\n* 8 - 2 = 6\n* 5 * 4 = 20\n* 10 / 2 = 5\n",
      "metadata": {}
    },
    {
      "cell_type": "code",
      "source": "# Exercise 8: Multiply and Add Numbers\n(3*4)+5\n#This is a simple arithmetic expression for multiplying and then adding integers.",
      "metadata": {
        "trusted": true
      },
      "outputs": [
        {
          "execution_count": 28,
          "output_type": "execute_result",
          "data": {
            "text/plain": "17"
          },
          "metadata": {}
        }
      ],
      "execution_count": 28
    },
    {
      "cell_type": "code",
      "source": "#Exercise 9: Convert Minutes to Hours\n200/60\n#This will convert 200 minutes to hours by dividing by 60.",
      "metadata": {
        "trusted": true
      },
      "outputs": [
        {
          "execution_count": 30,
          "output_type": "execute_result",
          "data": {
            "text/plain": "3.3333333333333335"
          },
          "metadata": {}
        }
      ],
      "execution_count": 30
    },
    {
      "cell_type": "markdown",
      "source": "# Exercise 11: Author Name\n## Author: \nBastian Lasnibat\n",
      "metadata": {}
    },
    {
      "cell_type": "code",
      "source": "# Exercise 12: Share on GitHub\n# (Instructions: Upload this notebook to your GitHub repository)\n\n# Exercise 13: Screenshot\n# (Instructions: Take a screenshot of the first page of this notebook)",
      "metadata": {
        "trusted": true
      },
      "outputs": [],
      "execution_count": null
    }
  ]
}